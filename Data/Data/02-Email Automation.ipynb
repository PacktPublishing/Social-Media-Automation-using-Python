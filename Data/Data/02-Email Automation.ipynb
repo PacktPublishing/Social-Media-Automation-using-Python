{
 "cells": [
  {
   "cell_type": "code",
   "execution_count": 5,
   "metadata": {},
   "outputs": [],
   "source": [
    "import smtplib\n",
    "from email.mime.multipart import MIMEMultipart\n",
    "from email.mime.text import MIMEText\n",
    "from email.mime.application import MIMEApplication\n",
    "\n",
    "my_address = \"contactaisciences@gmail.com\"\n",
    "password = \"malfscwqatzbzjlp\""
   ]
  },
  {
   "cell_type": "code",
   "execution_count": 4,
   "metadata": {},
   "outputs": [
    {
     "data": {
      "text/plain": [
       "{}"
      ]
     },
     "execution_count": 4,
     "metadata": {},
     "output_type": "execute_result"
    }
   ],
   "source": [
    "s = smtplib.SMTP(host = \"smtp.gmail.com\", port = 587)\n",
    "s.starttls()\n",
    "s.login(my_address, password)\n",
    "\n",
    "msg = MIMEMultipart()\n",
    "msg['From'] = my_address\n",
    "msg['To'] = \"zia4575552@gmail.com\"\n",
    "msg['Subject'] = \"Testing the attachment email\"\n",
    "message = \"Hello, Please find a report file in attachment.\"\n",
    "msg.attach(MIMEText(message, 'plain'))\n",
    "with open(\"report.csv\", 'rb') as file:\n",
    "    msg.attach(MIMEApplication(file.read(), Name = \"report.csv\"))\n",
    "\n",
    "\n",
    "s.send_message(msg)"
   ]
  },
  {
   "cell_type": "code",
   "execution_count": null,
   "metadata": {},
   "outputs": [],
   "source": []
  },
  {
   "cell_type": "code",
   "execution_count": null,
   "metadata": {},
   "outputs": [],
   "source": []
  },
  {
   "cell_type": "code",
   "execution_count": null,
   "metadata": {},
   "outputs": [],
   "source": []
  },
  {
   "cell_type": "code",
   "execution_count": null,
   "metadata": {},
   "outputs": [],
   "source": []
  },
  {
   "cell_type": "code",
   "execution_count": null,
   "metadata": {},
   "outputs": [],
   "source": []
  },
  {
   "cell_type": "code",
   "execution_count": null,
   "metadata": {},
   "outputs": [],
   "source": []
  }
 ],
 "metadata": {
  "kernelspec": {
   "display_name": "Python 3",
   "language": "python",
   "name": "python3"
  },
  "language_info": {
   "codemirror_mode": {
    "name": "ipython",
    "version": 3
   },
   "file_extension": ".py",
   "mimetype": "text/x-python",
   "name": "python",
   "nbconvert_exporter": "python",
   "pygments_lexer": "ipython3",
   "version": "3.8.3"
  }
 },
 "nbformat": 4,
 "nbformat_minor": 4
}
