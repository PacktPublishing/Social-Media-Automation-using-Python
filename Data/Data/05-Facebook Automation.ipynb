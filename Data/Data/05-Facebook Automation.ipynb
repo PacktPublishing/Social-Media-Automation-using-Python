{
 "cells": [
  {
   "cell_type": "code",
   "execution_count": null,
   "metadata": {},
   "outputs": [],
   "source": [
    "# !pip install facebook-sdk\n",
    "# https://developers.facebook.com/"
   ]
  },
  {
   "cell_type": "code",
   "execution_count": 1,
   "metadata": {},
   "outputs": [],
   "source": [
    "import facebook as fb"
   ]
  },
  {
   "cell_type": "code",
   "execution_count": 21,
   "metadata": {},
   "outputs": [],
   "source": [
    "access_token = \"EAAwiZCPk0yX8BAHUyfnNN8sDbnmWZBLfox7mt9ihurlm4JeJANmebpnhQTcTnpkRABgf7uzWj9iyr8j4woe5NNKm9sGcZAkLd4ZAsFpuqCsyLEECmOzb3FqYUwIwXD7u9hyqFYpWQG0kJhtC0zmjNKt7HbzZBOOqCBBfYIZB3iOoaJukbpMbxXFMLF5MKP8Ob959wxD77YYQZDZD\"\n",
    "fb_obj = fb.GraphAPI(access_token)"
   ]
  },
  {
   "cell_type": "code",
   "execution_count": 10,
   "metadata": {},
   "outputs": [
    {
     "data": {
      "text/plain": [
       "{'id': '1026788430809320_2308051539349663'}"
      ]
     },
     "execution_count": 10,
     "metadata": {},
     "output_type": "execute_result"
    }
   ],
   "source": [
    "hello_post = fb_obj.put_object(parent_object='me', connection_name='feed', message = 'Hello world')\n",
    "hello_post"
   ]
  },
  {
   "cell_type": "code",
   "execution_count": 12,
   "metadata": {},
   "outputs": [
    {
     "data": {
      "text/plain": [
       "'1026788430809320_2308051539349663'"
      ]
     },
     "execution_count": 12,
     "metadata": {},
     "output_type": "execute_result"
    }
   ],
   "source": [
    "hello_post['id']"
   ]
  },
  {
   "cell_type": "code",
   "execution_count": 14,
   "metadata": {},
   "outputs": [
    {
     "data": {
      "text/plain": [
       "{'created_time': '2022-11-08T14:37:17+0000',\n",
       " 'message': 'Hello world',\n",
       " 'id': '1026788430809320_2308051539349663'}"
      ]
     },
     "execution_count": 14,
     "metadata": {},
     "output_type": "execute_result"
    }
   ],
   "source": [
    "fb_obj.get_object(hello_post['id'])"
   ]
  },
  {
   "cell_type": "code",
   "execution_count": 15,
   "metadata": {},
   "outputs": [
    {
     "data": {
      "text/plain": [
       "{'id': '2308059519348865', 'post_id': '1026788430809320_2308059519348865'}"
      ]
     },
     "execution_count": 15,
     "metadata": {},
     "output_type": "execute_result"
    }
   ],
   "source": [
    "image_post = fb_obj.put_photo(image = open(\"post.jpg\", 'rb'), message = \"Posting this image for testing\")\n",
    "image_post"
   ]
  },
  {
   "cell_type": "code",
   "execution_count": 16,
   "metadata": {},
   "outputs": [
    {
     "data": {
      "text/plain": [
       "{'created_time': '2022-11-08T14:44:34+0000',\n",
       " 'name': 'Posting this image for testing',\n",
       " 'id': '2308059519348865'}"
      ]
     },
     "execution_count": 16,
     "metadata": {},
     "output_type": "execute_result"
    }
   ],
   "source": [
    "fb_obj.get_object(image_post['id'])"
   ]
  },
  {
   "cell_type": "code",
   "execution_count": 23,
   "metadata": {},
   "outputs": [
    {
     "data": {
      "text/plain": [
       "{'id': '2308059519348865_507010171312884'}"
      ]
     },
     "execution_count": 23,
     "metadata": {},
     "output_type": "execute_result"
    }
   ],
   "source": [
    "comment_post = fb_obj.put_object(parent_object=image_post['post_id'], connection_name='comments',\n",
    "                  message = 'This is a testing comment')\n",
    "comment_post"
   ]
  },
  {
   "cell_type": "code",
   "execution_count": 25,
   "metadata": {},
   "outputs": [
    {
     "data": {
      "text/plain": [
       "{'success': True}"
      ]
     },
     "execution_count": 25,
     "metadata": {},
     "output_type": "execute_result"
    }
   ],
   "source": [
    "like_post = fb_obj.put_like(image_post['post_id'])\n",
    "like_post"
   ]
  },
  {
   "cell_type": "code",
   "execution_count": 27,
   "metadata": {},
   "outputs": [
    {
     "data": {
      "text/plain": [
       "{'success': True}"
      ]
     },
     "execution_count": 27,
     "metadata": {},
     "output_type": "execute_result"
    }
   ],
   "source": [
    "delete_post = fb_obj.delete_object(hello_post['id'])\n",
    "delete_post"
   ]
  },
  {
   "cell_type": "code",
   "execution_count": null,
   "metadata": {},
   "outputs": [],
   "source": []
  },
  {
   "cell_type": "code",
   "execution_count": 28,
   "metadata": {},
   "outputs": [
    {
     "data": {
      "text/html": [
       "<div>\n",
       "<style scoped>\n",
       "    .dataframe tbody tr th:only-of-type {\n",
       "        vertical-align: middle;\n",
       "    }\n",
       "\n",
       "    .dataframe tbody tr th {\n",
       "        vertical-align: top;\n",
       "    }\n",
       "\n",
       "    .dataframe thead th {\n",
       "        text-align: right;\n",
       "    }\n",
       "</style>\n",
       "<table border=\"1\" class=\"dataframe\">\n",
       "  <thead>\n",
       "    <tr style=\"text-align: right;\">\n",
       "      <th></th>\n",
       "      <th>Unnamed: 0</th>\n",
       "      <th>Video Title</th>\n",
       "      <th>Total Count</th>\n",
       "      <th>Total Like</th>\n",
       "      <th>Total Comment</th>\n",
       "      <th>Video link</th>\n",
       "    </tr>\n",
       "  </thead>\n",
       "  <tbody>\n",
       "    <tr>\n",
       "      <th>0</th>\n",
       "      <td>0</td>\n",
       "      <td>Query Editor &amp; Data Modeling in Power BI for A...</td>\n",
       "      <td>253</td>\n",
       "      <td>9</td>\n",
       "      <td>3</td>\n",
       "      <td>https://www.youtube.com/watch?v=spFWe3nt85w</td>\n",
       "    </tr>\n",
       "    <tr>\n",
       "      <th>1</th>\n",
       "      <td>1</td>\n",
       "      <td>How To Make Interactive Reports Using Power BI...</td>\n",
       "      <td>382</td>\n",
       "      <td>36</td>\n",
       "      <td>18</td>\n",
       "      <td>https://www.youtube.com/watch?v=1ELqXlPoVUk</td>\n",
       "    </tr>\n",
       "    <tr>\n",
       "      <th>2</th>\n",
       "      <td>2</td>\n",
       "      <td>How to use DAX in Power BI Desktop for absolut...</td>\n",
       "      <td>154</td>\n",
       "      <td>17</td>\n",
       "      <td>5</td>\n",
       "      <td>https://www.youtube.com/watch?v=dexUetL3EQ0</td>\n",
       "    </tr>\n",
       "    <tr>\n",
       "      <th>3</th>\n",
       "      <td>3</td>\n",
       "      <td>Query Editor &amp; Data Modeling in Power BI for A...</td>\n",
       "      <td>253</td>\n",
       "      <td>9</td>\n",
       "      <td>3</td>\n",
       "      <td>https://www.youtube.com/watch?v=spFWe3nt85w</td>\n",
       "    </tr>\n",
       "    <tr>\n",
       "      <th>4</th>\n",
       "      <td>4</td>\n",
       "      <td>How To Make Interactive Reports Using Power BI...</td>\n",
       "      <td>382</td>\n",
       "      <td>36</td>\n",
       "      <td>18</td>\n",
       "      <td>https://www.youtube.com/watch?v=1ELqXlPoVUk</td>\n",
       "    </tr>\n",
       "    <tr>\n",
       "      <th>5</th>\n",
       "      <td>5</td>\n",
       "      <td>How to use DAX in Power BI Desktop for absolut...</td>\n",
       "      <td>154</td>\n",
       "      <td>17</td>\n",
       "      <td>5</td>\n",
       "      <td>https://www.youtube.com/watch?v=dexUetL3EQ0</td>\n",
       "    </tr>\n",
       "  </tbody>\n",
       "</table>\n",
       "</div>"
      ],
      "text/plain": [
       "   Unnamed: 0                                        Video Title  Total Count  \\\n",
       "0           0  Query Editor & Data Modeling in Power BI for A...          253   \n",
       "1           1  How To Make Interactive Reports Using Power BI...          382   \n",
       "2           2  How to use DAX in Power BI Desktop for absolut...          154   \n",
       "3           3  Query Editor & Data Modeling in Power BI for A...          253   \n",
       "4           4  How To Make Interactive Reports Using Power BI...          382   \n",
       "5           5  How to use DAX in Power BI Desktop for absolut...          154   \n",
       "\n",
       "   Total Like  Total Comment                                   Video link  \n",
       "0           9              3  https://www.youtube.com/watch?v=spFWe3nt85w  \n",
       "1          36             18  https://www.youtube.com/watch?v=1ELqXlPoVUk  \n",
       "2          17              5  https://www.youtube.com/watch?v=dexUetL3EQ0  \n",
       "3           9              3  https://www.youtube.com/watch?v=spFWe3nt85w  \n",
       "4          36             18  https://www.youtube.com/watch?v=1ELqXlPoVUk  \n",
       "5          17              5  https://www.youtube.com/watch?v=dexUetL3EQ0  "
      ]
     },
     "execution_count": 28,
     "metadata": {},
     "output_type": "execute_result"
    }
   ],
   "source": [
    "import pandas as pd\n",
    "\n",
    "df = pd.read_csv(r\"C:\\Users\\mg\\Desktop\\Social Media Course\\report.csv\")\n",
    "video_titles = df['Video Title'].to_list()\n",
    "video_links = df['Video link'].to_list()\n",
    "size = len(df)\n",
    "\n",
    "for i in range(size):\n",
    "    fb_obj.put_object(parent_object='me', connection_name='feed',\n",
    "                     message = video_titles[i], link = video_links[i])\n",
    "    sleep(5)"
   ]
  },
  {
   "cell_type": "code",
   "execution_count": null,
   "metadata": {},
   "outputs": [],
   "source": []
  },
  {
   "cell_type": "code",
   "execution_count": null,
   "metadata": {},
   "outputs": [],
   "source": []
  },
  {
   "cell_type": "code",
   "execution_count": null,
   "metadata": {},
   "outputs": [],
   "source": []
  }
 ],
 "metadata": {
  "kernelspec": {
   "display_name": "Python 3",
   "language": "python",
   "name": "python3"
  },
  "language_info": {
   "codemirror_mode": {
    "name": "ipython",
    "version": 3
   },
   "file_extension": ".py",
   "mimetype": "text/x-python",
   "name": "python",
   "nbconvert_exporter": "python",
   "pygments_lexer": "ipython3",
   "version": "3.8.3"
  }
 },
 "nbformat": 4,
 "nbformat_minor": 4
}
